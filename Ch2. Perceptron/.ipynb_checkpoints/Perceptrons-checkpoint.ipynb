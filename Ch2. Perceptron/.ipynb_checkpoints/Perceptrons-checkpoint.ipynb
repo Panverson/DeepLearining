{
 "cells": [
  {
   "cell_type": "markdown",
   "metadata": {},
   "source": [
    "**感知机是什么？**\n",
    "\n",
    "- 感知机（Perceptron）是神经网络的起源算法。\n",
    "- 感知机接收多个输入信号，输出一个信号。信号形成流，向前方输送信息，其取值只有流/不流（0/1）两种。\n",
    "图中$x_1,x_2$是输入信号，$y$是输出信号，$w_1,w_2$是权重。〇是神经元或节点。输入信号进入神经元后，会被分别乘以固定的权重，然后神经元计算传送过来的信号的总和，当这个综合超过一个阈值$θ$时，输出”1“，称之为”神经元被激活“。\n",
    "<img  src=\"../img/perceptron.png\" width=\"30%\"> </img>\n",
    "\n",
    "函数表示为：\n",
    "$$\n",
    "y=\\left\\{\\begin{array}{ll}\n",
    "0 & \\left(w_{1} x_{1}+w_{2} x_{2} \\leqslant \\theta\\right) \\\\\n",
    "1 & \\left(w_{1} x_{1}+w_{2} x_{2}>\\theta\\right)\n",
    "\\end{array}\\right.\n",
    "$$\n"
   ]
  },
  {
   "cell_type": "markdown",
   "metadata": {},
   "source": [
    "**逻辑电路**\n",
    "\n",
    "1. 与门<br>\n",
    "仅在两个输入都为1时输出1\n",
    "2. 与非门<br>\n",
    "仅在两个输入都不同时为1时输出1\n",
    "3. 或门<br>\n",
    "两个输入若有一个为1，就输出1\n"
   ]
  },
  {
   "cell_type": "code",
   "execution_count": 1,
   "metadata": {},
   "outputs": [],
   "source": [
    "## 实现简单的感知机\n",
    "def AND(x1, x2):\n",
    "    w1 = 0.5\n",
    "    w2 = 0.5\n",
    "    theta = 0.7\n",
    "    tmp = w1*x1+w2*x2\n",
    "    if tmp<theta:\n",
    "        return 0\n",
    "    return 1"
   ]
  },
  {
   "cell_type": "code",
   "execution_count": 2,
   "metadata": {},
   "outputs": [
    {
     "name": "stdout",
     "output_type": "stream",
     "text": [
      "0 1 0 0\n"
     ]
    }
   ],
   "source": [
    "print(AND(0,0),AND(1,1),AND(1,0),AND(0,1))"
   ]
  },
  {
   "cell_type": "markdown",
   "metadata": {},
   "source": [
    "**导入权重(weight)和和偏置(bias)**\n",
    "\n",
    "将$θ$换成$-b$，可以用如下式表示感知机的行为\n",
    "$$\n",
    "y=\\left\\{\\begin{array}{ll}\n",
    "0 & \\left(b+w_{1} x_{1}+w_{2} x_{2} \\leqslant 0\\right) \\\\\n",
    "1 & \\left(b+w_{1} x_{1}+w_{2} x_{2}>0\\right)\n",
    "\\end{array}\\right.\n",
    "$$\n",
    "其中b称之为偏置值。"
   ]
  },
  {
   "cell_type": "code",
   "execution_count": 3,
   "metadata": {},
   "outputs": [],
   "source": [
    "import numpy as np\n",
    "x = np.array([0,1])\n",
    "w = np.array([0.5, 0.5])\n",
    "b = -0.7"
   ]
  },
  {
   "cell_type": "code",
   "execution_count": 4,
   "metadata": {},
   "outputs": [
    {
     "data": {
      "text/plain": [
       "array([0. , 0.5])"
      ]
     },
     "execution_count": 4,
     "metadata": {},
     "output_type": "execute_result"
    }
   ],
   "source": [
    "w*x"
   ]
  },
  {
   "cell_type": "code",
   "execution_count": 5,
   "metadata": {},
   "outputs": [
    {
     "data": {
      "text/plain": [
       "0.5"
      ]
     },
     "execution_count": 5,
     "metadata": {},
     "output_type": "execute_result"
    }
   ],
   "source": [
    "np.sum(w*x)"
   ]
  },
  {
   "cell_type": "code",
   "execution_count": 6,
   "metadata": {},
   "outputs": [
    {
     "data": {
      "text/plain": [
       "-0.19999999999999996"
      ]
     },
     "execution_count": 6,
     "metadata": {},
     "output_type": "execute_result"
    }
   ],
   "source": [
    "np.sum(w*x)+b"
   ]
  },
  {
   "cell_type": "code",
   "execution_count": 7,
   "metadata": {},
   "outputs": [],
   "source": [
    "def AND(x1, x2):\n",
    "    x= np.array([x1, x2])\n",
    "    w = np.array([0.5, 0.5])\n",
    "    b = -0.7\n",
    "    tmp = np.sum(w*x) + b\n",
    "    if tmp > 0:\n",
    "        return 1\n",
    "    return 0"
   ]
  },
  {
   "cell_type": "code",
   "execution_count": 8,
   "metadata": {},
   "outputs": [
    {
     "name": "stdout",
     "output_type": "stream",
     "text": [
      "0 1 0 0\n"
     ]
    }
   ],
   "source": [
    "print(AND(0,0),AND(1,1),AND(1,0),AND(0,1))"
   ]
  },
  {
   "cell_type": "code",
   "execution_count": 9,
   "metadata": {},
   "outputs": [
    {
     "name": "stdout",
     "output_type": "stream",
     "text": [
      "1 0 1 1\n"
     ]
    }
   ],
   "source": [
    "def NAND(x1, x2): # 与非\n",
    "    x= np.array([x1, x2])\n",
    "    w = np.array([-0.5, -0.5])\n",
    "    b = 0.7\n",
    "    tmp = np.sum(w*x) + b\n",
    "    if tmp > 0:\n",
    "        return 1\n",
    "    return 0 \n",
    "\n",
    "print(NAND(0,0),NAND(1,1),NAND(1,0),NAND(0,1))"
   ]
  },
  {
   "cell_type": "code",
   "execution_count": 10,
   "metadata": {},
   "outputs": [
    {
     "name": "stdout",
     "output_type": "stream",
     "text": [
      "0 1 1 1\n"
     ]
    }
   ],
   "source": [
    "def OR(x1, x2): # 或\n",
    "    x= np.array([x1, x2])\n",
    "    w = np.array([0.5, 0.5])\n",
    "    b = -0.2\n",
    "    tmp = np.sum(w*x) + b\n",
    "    if tmp > 0:\n",
    "        return 1\n",
    "    return 0 \n",
    "\n",
    "print(OR(0,0),OR(1,1),OR(1,0),OR(0,1))"
   ]
  },
  {
   "cell_type": "markdown",
   "metadata": {},
   "source": [
    "**异或门与感知机的局限性**\n",
    "\n",
    "1. 异或门<br>\n",
    "当且仅当输入中有一个为1时才输出1。 <br>\n",
    "$$\n",
    "y=\\left\\{\\begin{array}{ll}\n",
    "0 & \\left(-0.5+x_{1}+x_{2} \\leqslant 0\\right) \\\\\n",
    "1 & \\left(-0.5+x_{1}+x_{2}>0\\right)\n",
    "\\end{array}\\right.\n",
    "$$\n",
    "\n",
    "2. 感知机的局限性<br>\n",
    "但是，单个感知机无法实现异或门。这是因为，在线性空间中，一条直线无法将下图中的Δ和〇分别划分到直线的同一侧，而曲线可以。\n",
    "<img  src=\"../img/XOR.png\" width=\"30%\"> </img>\n",
    "<img  src=\"../img/XOR_2.png\" width=\"30%\"> </img>\n",
    "但是，异或可以通过不同感知机的组合实现：\n",
    "\n",
    "<img  src=\"../img/XOR_3.png\" width=\"30%\"> </img>"
   ]
  },
  {
   "attachments": {},
   "cell_type": "markdown",
   "metadata": {},
   "source": [
    "**多层感知机**\n",
    "下面代码实现的是异或多层感知机。叠加了多层的感知机被称为多层感知机。\n",
    "<img  src=\"../img/MLP.png\" width=\"30%\"> </img>\n",
    "工作原理为：\n",
    "1. 第0 层的两个神经元接收输入信号，并将信号发送至第1 层的神经元。\n",
    "2. 第1 层的神经元将信号发送至第2 层的神经元，第2 层的神经元输出y。"
   ]
  },
  {
   "cell_type": "code",
   "execution_count": 11,
   "metadata": {},
   "outputs": [
    {
     "name": "stdout",
     "output_type": "stream",
     "text": [
      "0 0 1 1\n"
     ]
    }
   ],
   "source": [
    "def XOR(x1, x2):\n",
    "    return AND(NAND(x1,x2),OR(x1,x2))\n",
    "\n",
    "print(XOR(0,0),XOR(1,1),XOR(1,0),XOR(0,1))"
   ]
  }
 ],
 "metadata": {
  "kernelspec": {
   "display_name": "Python 3",
   "language": "python",
   "name": "python3"
  },
  "language_info": {
   "codemirror_mode": {
    "name": "ipython",
    "version": 3
   },
   "file_extension": ".py",
   "mimetype": "text/x-python",
   "name": "python",
   "nbconvert_exporter": "python",
   "pygments_lexer": "ipython3",
   "version": "3.7.0"
  }
 },
 "nbformat": 4,
 "nbformat_minor": 2
}
