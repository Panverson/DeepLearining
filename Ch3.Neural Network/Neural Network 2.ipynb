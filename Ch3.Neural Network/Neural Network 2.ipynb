{
 "cells": [
  {
   "cell_type": "markdown",
   "metadata": {},
   "source": [
    "## 3层神经网络的实现\n",
    "实现如图所示的三层神经网络：\n",
    "3 层神经网络：输入层（第0 层）有2 个神经元，第1 个隐藏层（第1 层）有3 个神经元，第2 个隐藏层（第2 层）有2 个神经元，输出层（第3 层）有2 个神经元\n",
    "![](../img/3ls.png)\n",
    "\n",
    "### Notation\n",
    "![](../img/notation.png)\n",
    "\n",
    "### 各层间信号传递\n",
    "如图\n",
    "![](../img/layers.png)\n",
    "$$\n",
    "    a^{(1)}_1 = b_1^{(1)}+w_{11}^{(1)}x_1+w_{12}^{(1)}x_2\n",
    "$$\n",
    "使用矩阵的乘法运算，第一层的运算可以表示为：\n",
    "$$\n",
    "    A^{(1)}=XW^{(1)}+B^{(1)}\n",
    "$$\n",
    "其中\n",
    "$$\n",
    "    A^{(1)}=(a_1^{(1)} \\ a_1^{(1)} \\ a_1^{(1)})\n",
    "$$\n",
    "\n",
    "$$\n",
    "    X = (x_1 \\ x_2)\n",
    "$$\n",
    "    \n",
    "$$\n",
    "    B^{(1)}=(b_1^{(1)} \\ b_1^{(1)} \\ b_1^{(1)})\n",
    "$$\n",
    "\n",
    "$$\n",
    " \\begin{pmatrix}\n",
    "     w_{11}^{(1)} & w_{21}^{(1)} & w_{31}^{(1)} \\\\\n",
    "     w_{12}^{(1)} & w_{22}^{(1)} & w_{32}^{(1)}      \n",
    " \\end{pmatrix}\n",
    "$$"
   ]
  },
  {
   "cell_type": "code",
   "execution_count": 2,
   "metadata": {},
   "outputs": [],
   "source": [
    "import numpy as np\n",
    "\n",
    "X = np.array([1.0, 0.5])\n",
    "W1 = np.array([[0.1, 0.3, 0.5],[0.2, 0.4, 0.6]])\n",
    "B1 = np.array([0.1, 0.2, 0.3])"
   ]
  },
  {
   "cell_type": "code",
   "execution_count": 3,
   "metadata": {},
   "outputs": [
    {
     "data": {
      "text/plain": [
       "array([0.3, 0.7, 1.1])"
      ]
     },
     "execution_count": 3,
     "metadata": {},
     "output_type": "execute_result"
    }
   ],
   "source": [
    "# 输入到第一层的信号传递\n",
    "\n",
    "A1 = np.dot(X,W1)+B1\n",
    "A1"
   ]
  },
  {
   "cell_type": "code",
   "execution_count": 5,
   "metadata": {},
   "outputs": [],
   "source": [
    "def sigmoid(x):\n",
    "    return 1/(1+np.exp(-x))\n",
    "\n",
    "Z1 = sigmoid(A1)"
   ]
  },
  {
   "cell_type": "code",
   "execution_count": 8,
   "metadata": {},
   "outputs": [
    {
     "name": "stdout",
     "output_type": "stream",
     "text": [
      "[0.57444252 0.66818777 0.75026011]\n"
     ]
    }
   ],
   "source": [
    "print(Z1)"
   ]
  },
  {
   "cell_type": "markdown",
   "metadata": {},
   "source": [
    "![](../img/1to2.png)"
   ]
  },
  {
   "cell_type": "code",
   "execution_count": 10,
   "metadata": {},
   "outputs": [
    {
     "name": "stdout",
     "output_type": "stream",
     "text": [
      "[0.51615984 1.21402696]\n",
      "[0.62624937 0.7710107 ]\n"
     ]
    }
   ],
   "source": [
    "# 第一层到第二层的信号传递\n",
    "\n",
    "W2 = np.array([[0.1, 0.4],[0.2, 0.5], [0.3, 0.6]])\n",
    "B2 = np.array([0.1, 0.2])\n",
    "\n",
    "A2 = np.dot(Z1, W2)+B2\n",
    "Z2 = sigmoid(A2)\n",
    "\n",
    "print(A2)\n",
    "print(Z2)"
   ]
  },
  {
   "cell_type": "markdown",
   "metadata": {},
   "source": [
    "![](../img/2to3.png)"
   ]
  },
  {
   "cell_type": "code",
   "execution_count": 12,
   "metadata": {},
   "outputs": [
    {
     "name": "stdout",
     "output_type": "stream",
     "text": [
      "[0.31682708 0.69627909]\n"
     ]
    }
   ],
   "source": [
    "# 第二层到输出层\n",
    "\n",
    "W3 = np.array([[0.1, 0.3],[0.2, 0.4]])\n",
    "B3 = np.array([0.1,0.2])\n",
    "\n",
    "A3 = np.dot(Z2, W3)+B3\n",
    "print(A3)"
   ]
  },
  {
   "cell_type": "code",
   "execution_count": 18,
   "metadata": {},
   "outputs": [],
   "source": [
    "# 整理上述代码，封装到函数里\n",
    "def init_network(): # 初始化神经网络的各层参数\n",
    "    network = {}\n",
    "    network['W1'] = np.array([[0.1, 0.3, 0.5],[0.2, 0.4, 0.6]])\n",
    "    network['b1'] = np.array([0.1, 0.2, 0.3])\n",
    "    network['W2'] = np.array([[0.1, 0.4],[0.2, 0.5], [0.3, 0.6]])\n",
    "    network['b2'] = np.array([0.1, 0.2])\n",
    "    network['W3'] = np.array([[0.1, 0.3],[0.2, 0.4]])\n",
    "    network['b3'] = np.array([0.1,0.2])\n",
    "    \n",
    "    return network\n",
    "\n",
    "def forward(network, x): # 前向传播\n",
    "    a1 = np.dot(x, network['W1']) + network['b1']\n",
    "    z1 = sigmoid(a1)\n",
    "    a2 = np.dot(z1, network['W2']) + network['b2']\n",
    "    z2 = sigmoid(a2)\n",
    "    a3 = np.dot(z2, network['W3']) + network['b3']\n",
    "    y = a3\n",
    "    \n",
    "    return y"
   ]
  },
  {
   "cell_type": "code",
   "execution_count": 19,
   "metadata": {},
   "outputs": [
    {
     "name": "stdout",
     "output_type": "stream",
     "text": [
      "[0.31682708 0.69627909]\n"
     ]
    }
   ],
   "source": [
    "network = init_network()\n",
    "x = np.array([1.0, 0.5])\n",
    "print(forward(network, x))"
   ]
  },
  {
   "cell_type": "code",
   "execution_count": null,
   "metadata": {},
   "outputs": [],
   "source": []
  }
 ],
 "metadata": {
  "kernelspec": {
   "display_name": "Python 3",
   "language": "python",
   "name": "python3"
  },
  "language_info": {
   "codemirror_mode": {
    "name": "ipython",
    "version": 3
   },
   "file_extension": ".py",
   "mimetype": "text/x-python",
   "name": "python",
   "nbconvert_exporter": "python",
   "pygments_lexer": "ipython3",
   "version": "3.7.0"
  }
 },
 "nbformat": 4,
 "nbformat_minor": 2
}
