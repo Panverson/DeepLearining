{
 "cells": [
  {
   "cell_type": "markdown",
   "metadata": {},
   "source": [
    "## 输出函数设计\n",
    "### softmax\n",
    "恒等函数：恒等函数会将输入按原样输出，对于输入的信息，不加以任何改动地直接输出。\n",
    "![](../img/identity.png)\n",
    "softmax函数：\n",
    "$$\n",
    "    y_k = \\frac{\\exp(a_k)}{\\sum^n_{i=1}\\exp(a_i)}\n",
    "$$\n",
    "第k个神经元的输出是$y_k$，n表示n个输出神经元。分母是输入，即上层输出a_k；分母是该层所有神经元的输入和。\n",
    "![](../img/softmax.png)"
   ]
  },
  {
   "cell_type": "code",
   "execution_count": 3,
   "metadata": {},
   "outputs": [
    {
     "data": {
      "text/plain": [
       "array([0.0460998 , 0.02796094, 0.92593926])"
      ]
     },
     "execution_count": 3,
     "metadata": {},
     "output_type": "execute_result"
    }
   ],
   "source": [
    "import numpy as np\n",
    "\n",
    "def softmax(a):\n",
    "    exp_a = np.exp(a) # 对a中每个元素求e的指数\n",
    "    sum_exp_a = np.sum(exp_a) # 计算a的指数和\n",
    "    return exp_a/sum_exp_a\n",
    "\n",
    "a = np.array([1.0, 0.5, 4.0])\n",
    "softmax(a)"
   ]
  },
  {
   "cell_type": "markdown",
   "metadata": {},
   "source": [
    "### softmax的改进\n",
    "上面的softmax函数的实现虽然正确描述了式，但在计算机的运算上有一定的缺陷。这个缺陷就是溢出问题。softmax函数的实现中要进行指数函数的运算，但是此时指数函数的值很容易变得非常大。所以一般用以下方式改进softmax函数：\n",
    "$$\\begin{aligned}\n",
    "    y_k &= \\frac{C\\exp(a_k)}{C\\sum^n_{i=1}\\exp(a_i)} \\\\\n",
    "    &=\\frac{ C\\exp(a_k)}{C\\sum^n_{i=1}\\exp(a_i)} \\\\\n",
    "    &=\\frac{ \\exp(a_k+\\log C)}{C\\sum^n_{i=1}\\exp(a_i+\\log C)}\n",
    "\\end{aligned}$$\n",
    "这里的$\\log{C}$可以使用任何值，但是为了防止溢出，一般会使用输入信号中的最大值"
   ]
  },
  {
   "cell_type": "code",
   "execution_count": 4,
   "metadata": {},
   "outputs": [
    {
     "name": "stderr",
     "output_type": "stream",
     "text": [
      "D:\\IDE\\Anaconda\\lib\\site-packages\\ipykernel_launcher.py:2: RuntimeWarning: invalid value encountered in true_divide\n",
      "  \n"
     ]
    },
    {
     "data": {
      "text/plain": [
       "array([nan, nan, nan])"
      ]
     },
     "execution_count": 4,
     "metadata": {},
     "output_type": "execute_result"
    }
   ],
   "source": [
    "a = np.array([1010, 1000, 990])\n",
    "np.exp(a)/np.sum(np.exp(a))"
   ]
  },
  {
   "cell_type": "code",
   "execution_count": 5,
   "metadata": {},
   "outputs": [
    {
     "data": {
      "text/plain": [
       "array([  0, -10, -20])"
      ]
     },
     "execution_count": 5,
     "metadata": {},
     "output_type": "execute_result"
    }
   ],
   "source": [
    "c = np.max(a)\n",
    "a -= c\n",
    "a"
   ]
  },
  {
   "cell_type": "code",
   "execution_count": 6,
   "metadata": {},
   "outputs": [
    {
     "data": {
      "text/plain": [
       "array([9.99954600e-01, 4.53978686e-05, 2.06106005e-09])"
      ]
     },
     "execution_count": 6,
     "metadata": {},
     "output_type": "execute_result"
    }
   ],
   "source": [
    "np.exp(a)/np.sum(np.exp(a))"
   ]
  },
  {
   "cell_type": "code",
   "execution_count": 10,
   "metadata": {},
   "outputs": [],
   "source": [
    "def softmax(a):\n",
    "    a -= np.max(a)\n",
    "    exp_a = np.exp(a) # 对a中每个元素求e的指数\n",
    "    sum_exp_a = np.sum(exp_a) # 计算a的指数和\n",
    "    return exp_a/sum_exp_a"
   ]
  },
  {
   "cell_type": "code",
   "execution_count": 11,
   "metadata": {},
   "outputs": [
    {
     "data": {
      "text/plain": [
       "array([9.99954600e-01, 4.53978686e-05, 2.06106005e-09])"
      ]
     },
     "execution_count": 11,
     "metadata": {},
     "output_type": "execute_result"
    }
   ],
   "source": [
    "y = softmax(a)\n",
    "y"
   ]
  },
  {
   "cell_type": "code",
   "execution_count": 12,
   "metadata": {},
   "outputs": [
    {
     "data": {
      "text/plain": [
       "1.0"
      ]
     },
     "execution_count": 12,
     "metadata": {},
     "output_type": "execute_result"
    }
   ],
   "source": [
    "np.sum(y)"
   ]
  },
  {
   "cell_type": "markdown",
   "metadata": {},
   "source": [
    "softmax函数的输出是0.0 到1.0之间的实数。并且，softmax函数的输出值的总和是1。\n",
    "\n",
    "上面的例子可以解释成y[0]的概率是0.018（1.8%），y[1]的概率是0.245（24.5%），y[2]的概率是0.737（73.7%）"
   ]
  },
  {
   "cell_type": "code",
   "execution_count": null,
   "metadata": {},
   "outputs": [],
   "source": [
    " "
   ]
  }
 ],
 "metadata": {
  "kernelspec": {
   "display_name": "Python 3",
   "language": "python",
   "name": "python3"
  },
  "language_info": {
   "codemirror_mode": {
    "name": "ipython",
    "version": 3
   },
   "file_extension": ".py",
   "mimetype": "text/x-python",
   "name": "python",
   "nbconvert_exporter": "python",
   "pygments_lexer": "ipython3",
   "version": "3.7.0"
  }
 },
 "nbformat": 4,
 "nbformat_minor": 2
}
