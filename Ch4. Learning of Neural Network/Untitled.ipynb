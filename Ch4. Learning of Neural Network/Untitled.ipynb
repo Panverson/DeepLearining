{
 "cells": [
  {
   "cell_type": "markdown",
   "metadata": {},
   "source": [
    "### 从数据中学习\n",
    "神经网络的学习是指从训练数据中自动获取最优权重参数的过程。为了使神经网络能进行学习，将导入**损失函数**这一指标。而学习的目的就是以该损失函数为基准，找出能使它的值达到最小的权重参数。为了找出尽可能小的损失函数的值，利用了函数斜率的**梯度法**。\n",
    "\n",
    "为了识别手写数字5，有如图所示的几种方法。一种方法是先从图像中提取特征量，再用机器学习技术学习这些特征量的模式（这里所说的“特征量”是指可以从输入数据（输入图像）中准确地提取本质数据（重要的数据）的转换器。图像的特征量通常表示为向量的形式。）。这种模式没有摆脱人工介入这个过程。\n",
    "\n",
    "神经网络就可以从数据中学习。所谓“从数据中学习”，是指可以由数据自动决定权重参数的值。神经网络的优点是对所有的问题都可以用同样的流程来解决，\n",
    "![](../img/ways.PNG)"
   ]
  },
  {
   "cell_type": "code",
   "execution_count": null,
   "metadata": {},
   "outputs": [],
   "source": []
  }
 ],
 "metadata": {
  "kernelspec": {
   "display_name": "Python 3",
   "language": "python",
   "name": "python3"
  },
  "language_info": {
   "codemirror_mode": {
    "name": "ipython",
    "version": 3
   },
   "file_extension": ".py",
   "mimetype": "text/x-python",
   "name": "python",
   "nbconvert_exporter": "python",
   "pygments_lexer": "ipython3",
   "version": "3.7.0"
  }
 },
 "nbformat": 4,
 "nbformat_minor": 2
}
