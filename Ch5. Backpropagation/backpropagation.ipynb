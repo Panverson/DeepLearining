{
 "cells": [
  {
   "cell_type": "markdown",
   "metadata": {},
   "source": [
    "### 反向传播\n",
    "#### 加法\n",
    "![](../img/add.png)\n",
    "\n",
    "#### 乘法\n",
    "![](../img/mult.png)"
   ]
  },
  {
   "cell_type": "code",
   "execution_count": 1,
   "metadata": {},
   "outputs": [],
   "source": [
    "# 乘法层的实现\n",
    "\n",
    "class MulLayer:\n",
    "    def __init__(self):\n",
    "        self.x = None\n",
    "        self.y = None\n",
    "    \n",
    "    def forward(self, x, y):\n",
    "        self.x = x\n",
    "        self.y = y\n",
    "        out = x * y     \n",
    "        return out\n",
    "    \n",
    "    def backward(self, dout):\n",
    "        dx = dout * self.y\n",
    "        dy = dout * self.x\n",
    "        \n",
    "        return dx, dy"
   ]
  },
  {
   "cell_type": "code",
   "execution_count": 3,
   "metadata": {},
   "outputs": [
    {
     "name": "stdout",
     "output_type": "stream",
     "text": [
      "200\n",
      "220.00000000000003\n"
     ]
    }
   ],
   "source": [
    "apple = 100\n",
    "apple_num = 2\n",
    "tax = 1.1\n",
    "\n",
    "# layer\n",
    "mul_apple = MulLayer()\n",
    "mul_tax = MulLayer()\n",
    "\n",
    "# forward\n",
    "apple_price = mul_apple.forward(apple, apple_num) # apple layer first\n",
    "print(apple_price)\n",
    "price = mul_tax.forward(apple_price, tax)\n",
    "print(price)"
   ]
  },
  {
   "cell_type": "code",
   "execution_count": 6,
   "metadata": {},
   "outputs": [
    {
     "name": "stdout",
     "output_type": "stream",
     "text": [
      "1.1 200\n",
      "2.2 110.00000000000001\n"
     ]
    }
   ],
   "source": [
    "# backward\n",
    "dprice = 1\n",
    "dapple_price, dtax = mul_tax.backward(dprice) # tax layer first\n",
    "print(dapple_price, dtax)\n",
    "dapple, dapple_num = mul_apple.backward(dapple_price)\n",
    "print(dapple, dapple_num)"
   ]
  },
  {
   "cell_type": "code",
   "execution_count": 11,
   "metadata": {},
   "outputs": [],
   "source": [
    "# 加法层实现\n",
    "class AddLayer:\n",
    "    def __init__(self):\n",
    "        pass\n",
    "    \n",
    "    def forward(self, x, y):\n",
    "        out = x + y\n",
    "        return out\n",
    "    \n",
    "    def backward(self, dout):\n",
    "        dx = dout\n",
    "        dy = dout\n",
    "        return dx, dy"
   ]
  },
  {
   "cell_type": "code",
   "execution_count": 12,
   "metadata": {},
   "outputs": [
    {
     "name": "stdout",
     "output_type": "stream",
     "text": [
      "200\n",
      "450\n",
      "650\n",
      "715.0000000000001\n"
     ]
    }
   ],
   "source": [
    "orange = 150\n",
    "orange_num = 3\n",
    "\n",
    "# layer\n",
    "mul_orange = MulLayer()\n",
    "add = AddLayer()\n",
    "\n",
    "# forward\n",
    "apple_price = mul_apple.forward(apple, apple_num)\n",
    "print(apple_price)\n",
    "orange_price = mul_orange.forward(orange, orange_num)\n",
    "print(orange_price)\n",
    "total = add.forward(apple_price, orange_price)\n",
    "print(total)\n",
    "price = mul_tax.forward(total, tax)\n",
    "print(price)"
   ]
  },
  {
   "cell_type": "code",
   "execution_count": 14,
   "metadata": {},
   "outputs": [
    {
     "name": "stdout",
     "output_type": "stream",
     "text": [
      "1.1 650\n",
      "1.1 1.1\n",
      "2.2 110.00000000000001\n",
      "3.3000000000000003 165.0\n"
     ]
    }
   ],
   "source": [
    "# backward\n",
    "\n",
    "dprice = 1\n",
    "dtotal, dtax = mul_tax.backward(dprice)\n",
    "print(dtotal, dtax)\n",
    "dapple_price, dorange_price = add.backward(dtotal)\n",
    "print(dapple_price, dorange_price)\n",
    "dapple, dapple_num = mul_apple.backward(dapple_price)\n",
    "print(dapple, dapple_num)\n",
    "dorange, dorange_num = mul_orange.backward(dorange_price)\n",
    "print(dorange, dorange_num)"
   ]
  },
  {
   "cell_type": "code",
   "execution_count": 16,
   "metadata": {},
   "outputs": [],
   "source": [
    "# 激活函数层实现\n",
    "import numpy as np\n",
    "# Relu\n",
    "class Relu:\n",
    "    def __init__(self):\n",
    "        self.mask = None\n",
    "    \n",
    "    def forward(self, x):\n",
    "        out = x.copy()\n",
    "        out[self.mask] = 0\n",
    "        \n",
    "        return out\n",
    "    \n",
    "    def backward(self, dout):\n",
    "        dout[self.mask] = 0\n",
    "        dx = dout\n",
    "        return dx"
   ]
  },
  {
   "cell_type": "code",
   "execution_count": 17,
   "metadata": {
    "scrolled": true
   },
   "outputs": [
    {
     "name": "stdout",
     "output_type": "stream",
     "text": [
      "[[False  True]\n",
      " [ True False]]\n"
     ]
    }
   ],
   "source": [
    "x = np.array( [[1.0, -0.5], [-2.0, 3.0]] )\n",
    "mask = (x<=0)\n",
    "print(mask)"
   ]
  },
  {
   "cell_type": "markdown",
   "metadata": {},
   "source": [
    "### Sigmoid层\n",
    "sigmoid函数的计算可表示为：\n",
    "![](../img/sigmoid.png)\n",
    "\n",
    "exp: $y=\\exp(x)$\n",
    "\n",
    "/: $y=\\frac{1}{x}$\n",
    "\n",
    "$y' = y(1-y), y = sigmoid(x)$"
   ]
  },
  {
   "cell_type": "code",
   "execution_count": 18,
   "metadata": {},
   "outputs": [],
   "source": [
    "# Sigmoid\n",
    "class sigmoid:\n",
    "    def __init__(self):\n",
    "        self.out = None\n",
    "    \n",
    "    def forward(self, x):\n",
    "        out = 1/(1+np.exp(-x))\n",
    "        self.out = out\n",
    "        return out\n",
    "    \n",
    "    def backward(self, dout):\n",
    "        dx = dout * (1.0 - self.out) * self.out\n",
    "        return dx"
   ]
  },
  {
   "cell_type": "code",
   "execution_count": null,
   "metadata": {},
   "outputs": [],
   "source": []
  }
 ],
 "metadata": {
  "kernelspec": {
   "display_name": "Python 3",
   "language": "python",
   "name": "python3"
  },
  "language_info": {
   "codemirror_mode": {
    "name": "ipython",
    "version": 3
   },
   "file_extension": ".py",
   "mimetype": "text/x-python",
   "name": "python",
   "nbconvert_exporter": "python",
   "pygments_lexer": "ipython3",
   "version": "3.7.0"
  }
 },
 "nbformat": 4,
 "nbformat_minor": 2
}
