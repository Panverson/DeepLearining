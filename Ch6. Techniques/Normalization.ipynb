{
 "cells": [
  {
   "cell_type": "markdown",
   "metadata": {},
   "source": [
    "### 过拟合\n",
    "过拟合指的是只能拟合训练数据，但不能很好地拟合不包含在训练数据中的其他数据的状态。\n",
    "\n",
    "发生过拟合的原因包括：\n",
    "- 模型拥有大量参数、表现力强。\n",
    "- 训练数据少。\n",
    "\n",
    "### 权值衰减\n"
   ]
  }
 ],
 "metadata": {
  "kernelspec": {
   "display_name": "Python 3",
   "language": "python",
   "name": "python3"
  },
  "language_info": {
   "codemirror_mode": {
    "name": "ipython",
    "version": 3
   },
   "file_extension": ".py",
   "mimetype": "text/x-python",
   "name": "python",
   "nbconvert_exporter": "python",
   "pygments_lexer": "ipython3",
   "version": "3.7.0"
  }
 },
 "nbformat": 4,
 "nbformat_minor": 2
}
